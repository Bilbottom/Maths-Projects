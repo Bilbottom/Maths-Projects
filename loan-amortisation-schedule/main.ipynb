{
 "cells": [
  {
   "cell_type": "code",
   "execution_count": 1,
   "metadata": {
    "collapsed": true,
    "pycharm": {
     "name": "#%%\n"
    }
   },
   "outputs": [],
   "source": [
    "from loan_calculator import AmortizationCalculator"
   ]
  },
  {
   "cell_type": "code",
   "execution_count": 2,
   "outputs": [
    {
     "data": {
      "text/plain": "    period_id  amortization_amount      interest     principal       balance\n0         1.0          14676.33151  10000.000000   4676.331510  9.532367e+04\n1         2.0          14676.33151   9532.366849   5143.964661  9.017970e+04\n2         3.0          14676.33151   9017.970383   5658.361127  8.452134e+04\n3         4.0          14676.33151   8452.134270   6224.197240  7.829715e+04\n4         5.0          14676.33151   7829.714546   6846.616964  7.145053e+04\n5         6.0          14676.33151   7145.052850   7531.278660  6.391925e+04\n6         7.0          14676.33151   6391.924984   8284.406526  5.563484e+04\n7         8.0          14676.33151   5563.484331   9112.847179  4.652200e+04\n8         9.0          14676.33151   4652.199613  10024.131897  3.649786e+04\n9        10.0          14676.33151   3649.786424  11026.545086  2.547132e+04\n10       11.0          14676.33151   2547.131915  12129.199595  1.334212e+04\n11       12.0          14676.33151   1334.211955  13342.119555  9.640644e-11",
      "text/html": "<div>\n<style scoped>\n    .dataframe tbody tr th:only-of-type {\n        vertical-align: middle;\n    }\n\n    .dataframe tbody tr th {\n        vertical-align: top;\n    }\n\n    .dataframe thead th {\n        text-align: right;\n    }\n</style>\n<table border=\"1\" class=\"dataframe\">\n  <thead>\n    <tr style=\"text-align: right;\">\n      <th></th>\n      <th>period_id</th>\n      <th>amortization_amount</th>\n      <th>interest</th>\n      <th>principal</th>\n      <th>balance</th>\n    </tr>\n  </thead>\n  <tbody>\n    <tr>\n      <th>0</th>\n      <td>1.0</td>\n      <td>14676.33151</td>\n      <td>10000.000000</td>\n      <td>4676.331510</td>\n      <td>9.532367e+04</td>\n    </tr>\n    <tr>\n      <th>1</th>\n      <td>2.0</td>\n      <td>14676.33151</td>\n      <td>9532.366849</td>\n      <td>5143.964661</td>\n      <td>9.017970e+04</td>\n    </tr>\n    <tr>\n      <th>2</th>\n      <td>3.0</td>\n      <td>14676.33151</td>\n      <td>9017.970383</td>\n      <td>5658.361127</td>\n      <td>8.452134e+04</td>\n    </tr>\n    <tr>\n      <th>3</th>\n      <td>4.0</td>\n      <td>14676.33151</td>\n      <td>8452.134270</td>\n      <td>6224.197240</td>\n      <td>7.829715e+04</td>\n    </tr>\n    <tr>\n      <th>4</th>\n      <td>5.0</td>\n      <td>14676.33151</td>\n      <td>7829.714546</td>\n      <td>6846.616964</td>\n      <td>7.145053e+04</td>\n    </tr>\n    <tr>\n      <th>5</th>\n      <td>6.0</td>\n      <td>14676.33151</td>\n      <td>7145.052850</td>\n      <td>7531.278660</td>\n      <td>6.391925e+04</td>\n    </tr>\n    <tr>\n      <th>6</th>\n      <td>7.0</td>\n      <td>14676.33151</td>\n      <td>6391.924984</td>\n      <td>8284.406526</td>\n      <td>5.563484e+04</td>\n    </tr>\n    <tr>\n      <th>7</th>\n      <td>8.0</td>\n      <td>14676.33151</td>\n      <td>5563.484331</td>\n      <td>9112.847179</td>\n      <td>4.652200e+04</td>\n    </tr>\n    <tr>\n      <th>8</th>\n      <td>9.0</td>\n      <td>14676.33151</td>\n      <td>4652.199613</td>\n      <td>10024.131897</td>\n      <td>3.649786e+04</td>\n    </tr>\n    <tr>\n      <th>9</th>\n      <td>10.0</td>\n      <td>14676.33151</td>\n      <td>3649.786424</td>\n      <td>11026.545086</td>\n      <td>2.547132e+04</td>\n    </tr>\n    <tr>\n      <th>10</th>\n      <td>11.0</td>\n      <td>14676.33151</td>\n      <td>2547.131915</td>\n      <td>12129.199595</td>\n      <td>1.334212e+04</td>\n    </tr>\n    <tr>\n      <th>11</th>\n      <td>12.0</td>\n      <td>14676.33151</td>\n      <td>1334.211955</td>\n      <td>13342.119555</td>\n      <td>9.640644e-11</td>\n    </tr>\n  </tbody>\n</table>\n</div>"
     },
     "execution_count": 2,
     "metadata": {},
     "output_type": "execute_result"
    }
   ],
   "source": [
    "calc = AmortizationCalculator(\n",
    "    principal=100000,\n",
    "    interest_rate=0.10,\n",
    "    period=12\n",
    ")\n",
    "calc.amortization_schedule()\n",
    "schedule = calc.schedule\n",
    "schedule"
   ],
   "metadata": {
    "collapsed": false,
    "pycharm": {
     "name": "#%%\n"
    }
   }
  }
 ],
 "metadata": {
  "kernelspec": {
   "display_name": "Python 3",
   "language": "python",
   "name": "python3"
  },
  "language_info": {
   "codemirror_mode": {
    "name": "ipython",
    "version": 2
   },
   "file_extension": ".py",
   "mimetype": "text/x-python",
   "name": "python",
   "nbconvert_exporter": "python",
   "pygments_lexer": "ipython2",
   "version": "2.7.6"
  }
 },
 "nbformat": 4,
 "nbformat_minor": 0
}